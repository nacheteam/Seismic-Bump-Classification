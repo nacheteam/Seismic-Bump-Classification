{
 "cells": [
  {
   "cell_type": "markdown",
   "metadata": {},
   "source": [
    "We import all libraries used in the script"
   ]
  },
  {
   "cell_type": "code",
   "execution_count": 14,
   "metadata": {},
   "outputs": [],
   "source": [
    "import numpy as np"
   ]
  },
  {
   "cell_type": "markdown",
   "metadata": {},
   "source": [
    "First of all we are going to read the already preprocessed dataset."
   ]
  },
  {
   "cell_type": "code",
   "execution_count": 15,
   "metadata": {},
   "outputs": [],
   "source": [
    "def readData(file):\n",
    "    f = open(file, \"r\")\n",
    "    data = []\n",
    "    labels = []\n",
    "    reading_data = False\n",
    "    reading_labels = False\n",
    "    for line in f:\n",
    "        if reading_data and not \"@labels\" in line:\n",
    "            v = []\n",
    "            for d in line.rstrip().split(\" \"):\n",
    "                v.append(float(d))\n",
    "            data.append(v)\n",
    "        if \"@data\" in line:\n",
    "            reading_data = True\n",
    "        if reading_labels:\n",
    "            labels.append(float(line))\n",
    "        if \"@labels\" in line:\n",
    "            reading_labels = True\n",
    "            reading_data = False\n",
    "    return np.array(data),np.array(labels)"
   ]
  },
  {
   "cell_type": "code",
   "execution_count": 17,
   "metadata": {},
   "outputs": [
    {
     "data": {
      "text/plain": [
       "array([0., 0., 0., ..., 1., 1., 1.])"
      ]
     },
     "execution_count": 17,
     "metadata": {},
     "output_type": "execute_result"
    }
   ],
   "source": [
    "data_train, labels_train = readData(\"./dataset/train.dat\")\n",
    "data_test, labels_test = readData(\"./dataset/test.dat\")"
   ]
  }
 ],
 "metadata": {
  "kernelspec": {
   "display_name": "Python 3",
   "language": "python",
   "name": "python3"
  },
  "language_info": {
   "codemirror_mode": {
    "name": "ipython",
    "version": 3
   },
   "file_extension": ".py",
   "mimetype": "text/x-python",
   "name": "python",
   "nbconvert_exporter": "python",
   "pygments_lexer": "ipython3",
   "version": "3.7.3"
  }
 },
 "nbformat": 4,
 "nbformat_minor": 2
}
